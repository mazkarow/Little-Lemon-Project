{
 "cells": [
  {
   "cell_type": "code",
   "execution_count": 2,
   "id": "489839e0-547d-4ed7-987b-27033de8a08f",
   "metadata": {},
   "outputs": [],
   "source": [
    "import pyodbc #in this project i use sql server as i'm unable to install mysql in my laptop due to some work restrection\n"
   ]
  },
  {
   "cell_type": "code",
   "execution_count": 19,
   "id": "2c50a89c-a038-463e-9720-162dc82d75c5",
   "metadata": {},
   "outputs": [],
   "source": [
    "#now we will create the connection \n",
    "connection = pyodbc.connect(r'Driver=SQL Server;Server=MAN5CG2501Y5G\\SQLEXPRESS;Database=little_lemon;Trusted_Connection=yes;')\n",
    "cursor =  connection.cursor()"
   ]
  },
  {
   "cell_type": "code",
   "execution_count": 48,
   "id": "c79ba435-ccec-4f60-94dd-a9ef9a8c6310",
   "metadata": {},
   "outputs": [],
   "source": [
    "#Setting up the database: creating strings with the table data\n",
    "\n",
    "#customer table\n",
    "create_customer_table = \"\"\"\n",
    "      CREATE Customers  (\n",
    "      CustomerID INT PRIMARY KEY,\n",
    "      FullName VARCHAR(255),\n",
    "      ContactNumber VARCHAR(45),\n",
    "      Email VARCHAR(255)\n",
    "        );\n",
    "    \"\"\"\n",
    "\n",
    "#Orders table\n",
    "create_Orders_table = \"\"\"\n",
    "    CREATE TABLE Orders (\n",
    "      OrderID INT PRIMARY KEY,\n",
    "      customerID INT UNIQUE,\n",
    "      ProductID INT UNIQUE,\n",
    "      DeliveryID INT,\n",
    "      OrderPriority Varchar(45),\n",
    "      Discount Decimal,\n",
    "      TotaleCost DECIMAL,\n",
    "      ShipID INT UNIQUE\n",
    "    );\n",
    "    \"\"\"\n",
    "\n",
    "#Shipping table\n",
    "create_Shipping_table = \"\"\"\n",
    "    CREATE TABLE Shipping (\n",
    "      ShipID INT PRIMARY KEY,\n",
    "      ShipDate DATE,\n",
    "      ShipMode VARCHAR(45),\n",
    "      AdressID INT unique,\n",
    "      ShipCost DECIMAL\n",
    "    );\n",
    "    \"\"\"\n",
    "#Products table\n",
    "create_Products_table = \"\"\"\n",
    "    CREATE TABLE Products (\n",
    "      ProductID int PRIMARY KEY,\n",
    "      ProductName VARCHAR(255),\n",
    "      AmountInStock int,\n",
    "      Price Decimal,\n",
    "      Category Varchar(255),\n",
    "      SubCategory varchar(255)\n",
    "    );\n",
    "    \"\"\"\n",
    "\n",
    "#delivery table\n",
    "create_delivery_table = \"\"\"\n",
    "    CREATE TABLE delivery (\n",
    "      AdressID int PRIMARY KEY,\n",
    "      Street varchar(255),\n",
    "      PostCode varchar(255),\n",
    "      City timestamp,\n",
    "      State VarChar(255),\n",
    "      Country varChar(255)\n",
    "    );\n",
    "    \"\"\"\n",
    "\n",
    "#tables Relations \n",
    "create_tables_relations = \"\"\"\n",
    "    ALTER TABLE Customers ADD FOREIGN KEY (CustomerID) REFERENCES Orders (customerID);\n",
    "    ALTER TABLE Products ADD FOREIGN KEY (ProductID) REFERENCES Orders (ProductID);\n",
    "    ALTER TABLE delivery ADD FOREIGN KEY (AdressID) REFERENCES Shipping (AdressID);\n",
    "    ALTER TABLE Shipping ADD FOREIGN KEY (ShipID) REFERENCES Orders (ShipID);\n",
    "    \"\"\"\n",
    "\n",
    "#Execute the above queries to create the tables\n",
    "cursor.execute(create_customer_table)\n",
    "cursor.execute(create_Orders_table)\n",
    "cursor.execute(create_Shipping_table)\n",
    "cursor.execute(create_Products_table)\n",
    "cursor.execute(create_delivery_table)\n",
    "# Execute the relation query\n",
    "cursor.execute(create_tables_relations)"
   ]
  },
  {
   "cell_type": "code",
   "execution_count": 51,
   "id": "29075a07-1c79-4235-9748-da6d7021f65b",
   "metadata": {},
   "outputs": [],
   "source": [
    "#create getmaxquantity procedures\n",
    "\n",
    "GetMaxQuantity = \"\"\"\n",
    "create procedure GetMaxQuantity()\n",
    "begin\n",
    "    select Count(Orders) as max_qt\n",
    "    from Orders\n",
    "end;\n",
    "\"\"\"\n"
   ]
  },
  {
   "cell_type": "code",
   "execution_count": null,
   "id": "64274ac3-bc1f-4763-b96b-bc158fafd937",
   "metadata": {},
   "outputs": [],
   "source": []
  }
 ],
 "metadata": {
  "kernelspec": {
   "display_name": "Python 3 (ipykernel)",
   "language": "python",
   "name": "python3"
  },
  "language_info": {
   "codemirror_mode": {
    "name": "ipython",
    "version": 3
   },
   "file_extension": ".py",
   "mimetype": "text/x-python",
   "name": "python",
   "nbconvert_exporter": "python",
   "pygments_lexer": "ipython3",
   "version": "3.9.0"
  }
 },
 "nbformat": 4,
 "nbformat_minor": 5
}
